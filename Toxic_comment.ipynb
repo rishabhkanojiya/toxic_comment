{
 "cells": [
  {
   "cell_type": "code",
   "execution_count": 3,
   "metadata": {},
   "outputs": [],
   "source": [
    "from __future__ import print_function,division\n",
    "from builtins import range"
   ]
  },
  {
   "cell_type": "code",
   "execution_count": 4,
   "metadata": {},
   "outputs": [],
   "source": [
    "import os\n",
    "import sys\n",
    "import pandas as pd\n",
    "import numpy as np\n",
    "import matplotlib.pyplot as plt"
   ]
  },
  {
   "cell_type": "code",
   "execution_count": 7,
   "metadata": {},
   "outputs": [],
   "source": [
    "from keras.preprocessing.text import Tokenizer\n",
    "from keras.preprocessing.sequence import pad_sequences\n",
    "from keras.layers import Dense,Input,GlobalMaxPool1D\n",
    "from keras.layers import Conv1D,MaxPool1D,Embedding\n",
    "from keras.models import Model\n",
    "from sklearn.metrics import roc_auc_score"
   ]
  },
  {
   "cell_type": "code",
   "execution_count": 8,
   "metadata": {},
   "outputs": [],
   "source": [
    "MAX_SEQUENCE_LENGTH = 100\n",
    "MAX_VOCAB_SIZE = 20000\n",
    "EMBEDDING_DIM = 100\n",
    "VALIDATION_SPLIT = 0.2\n",
    "BATCH_SIZE = 128\n",
    "EPOCHS = 10"
   ]
  },
  {
   "cell_type": "code",
   "execution_count": 15,
   "metadata": {},
   "outputs": [
    {
     "name": "stdout",
     "output_type": "stream",
     "text": [
      "Loading word vectors...\n",
      "Found 400000 word vectors.\n"
     ]
    }
   ],
   "source": [
    "print('Loading word vectors...')\n",
    "\n",
    "word2vec = {}\n",
    "with open(os.path.join('large_files/glove.6B/glove.6B.%sd.txt' % EMBEDDING_DIM),encoding=\"utf8\") as f:\n",
    "\n",
    "  # is just a space-separated text file in the format:\n",
    "  # word vec[0] vec[1] vec[2] ...\n",
    "\n",
    "    for line in f:\n",
    "        values = line.split()\n",
    "        word = values[0]\n",
    "        vec = np.asarray(values[1:], dtype='float32')\n",
    "        word2vec[word] = vec\n",
    "\n",
    "print('Found %s word vectors.' % len(word2vec))"
   ]
  },
  {
   "cell_type": "code",
   "execution_count": 16,
   "metadata": {},
   "outputs": [],
   "source": [
    "train = pd.read_csv('train.csv')"
   ]
  },
  {
   "cell_type": "code",
   "execution_count": 131,
   "metadata": {},
   "outputs": [],
   "source": [
    "test = pd.read_csv('test.csv')"
   ]
  },
  {
   "cell_type": "code",
   "execution_count": 132,
   "metadata": {},
   "outputs": [],
   "source": [
    "test_lab = pd.read_csv('test_labels.csv')"
   ]
  },
  {
   "cell_type": "code",
   "execution_count": 151,
   "metadata": {},
   "outputs": [
    {
     "name": "stdout",
     "output_type": "stream",
     "text": [
      "<class 'pandas.core.frame.DataFrame'>\n",
      "RangeIndex: 153164 entries, 0 to 153163\n",
      "Data columns (total 2 columns):\n",
      "id              153164 non-null object\n",
      "comment_text    153164 non-null object\n",
      "dtypes: object(2)\n",
      "memory usage: 2.3+ MB\n"
     ]
    }
   ],
   "source": [
    "test.info()"
   ]
  },
  {
   "cell_type": "code",
   "execution_count": 17,
   "metadata": {},
   "outputs": [
    {
     "data": {
      "text/html": [
       "<div>\n",
       "<style scoped>\n",
       "    .dataframe tbody tr th:only-of-type {\n",
       "        vertical-align: middle;\n",
       "    }\n",
       "\n",
       "    .dataframe tbody tr th {\n",
       "        vertical-align: top;\n",
       "    }\n",
       "\n",
       "    .dataframe thead th {\n",
       "        text-align: right;\n",
       "    }\n",
       "</style>\n",
       "<table border=\"1\" class=\"dataframe\">\n",
       "  <thead>\n",
       "    <tr style=\"text-align: right;\">\n",
       "      <th></th>\n",
       "      <th>id</th>\n",
       "      <th>comment_text</th>\n",
       "      <th>toxic</th>\n",
       "      <th>severe_toxic</th>\n",
       "      <th>obscene</th>\n",
       "      <th>threat</th>\n",
       "      <th>insult</th>\n",
       "      <th>identity_hate</th>\n",
       "    </tr>\n",
       "  </thead>\n",
       "  <tbody>\n",
       "    <tr>\n",
       "      <th>0</th>\n",
       "      <td>0000997932d777bf</td>\n",
       "      <td>Explanation\\nWhy the edits made under my usern...</td>\n",
       "      <td>0</td>\n",
       "      <td>0</td>\n",
       "      <td>0</td>\n",
       "      <td>0</td>\n",
       "      <td>0</td>\n",
       "      <td>0</td>\n",
       "    </tr>\n",
       "    <tr>\n",
       "      <th>1</th>\n",
       "      <td>000103f0d9cfb60f</td>\n",
       "      <td>D'aww! He matches this background colour I'm s...</td>\n",
       "      <td>0</td>\n",
       "      <td>0</td>\n",
       "      <td>0</td>\n",
       "      <td>0</td>\n",
       "      <td>0</td>\n",
       "      <td>0</td>\n",
       "    </tr>\n",
       "    <tr>\n",
       "      <th>2</th>\n",
       "      <td>000113f07ec002fd</td>\n",
       "      <td>Hey man, I'm really not trying to edit war. It...</td>\n",
       "      <td>0</td>\n",
       "      <td>0</td>\n",
       "      <td>0</td>\n",
       "      <td>0</td>\n",
       "      <td>0</td>\n",
       "      <td>0</td>\n",
       "    </tr>\n",
       "    <tr>\n",
       "      <th>3</th>\n",
       "      <td>0001b41b1c6bb37e</td>\n",
       "      <td>\"\\nMore\\nI can't make any real suggestions on ...</td>\n",
       "      <td>0</td>\n",
       "      <td>0</td>\n",
       "      <td>0</td>\n",
       "      <td>0</td>\n",
       "      <td>0</td>\n",
       "      <td>0</td>\n",
       "    </tr>\n",
       "    <tr>\n",
       "      <th>4</th>\n",
       "      <td>0001d958c54c6e35</td>\n",
       "      <td>You, sir, are my hero. Any chance you remember...</td>\n",
       "      <td>0</td>\n",
       "      <td>0</td>\n",
       "      <td>0</td>\n",
       "      <td>0</td>\n",
       "      <td>0</td>\n",
       "      <td>0</td>\n",
       "    </tr>\n",
       "  </tbody>\n",
       "</table>\n",
       "</div>"
      ],
      "text/plain": [
       "                 id                                       comment_text  toxic  \\\n",
       "0  0000997932d777bf  Explanation\\nWhy the edits made under my usern...      0   \n",
       "1  000103f0d9cfb60f  D'aww! He matches this background colour I'm s...      0   \n",
       "2  000113f07ec002fd  Hey man, I'm really not trying to edit war. It...      0   \n",
       "3  0001b41b1c6bb37e  \"\\nMore\\nI can't make any real suggestions on ...      0   \n",
       "4  0001d958c54c6e35  You, sir, are my hero. Any chance you remember...      0   \n",
       "\n",
       "   severe_toxic  obscene  threat  insult  identity_hate  \n",
       "0             0        0       0       0              0  \n",
       "1             0        0       0       0              0  \n",
       "2             0        0       0       0              0  \n",
       "3             0        0       0       0              0  \n",
       "4             0        0       0       0              0  "
      ]
     },
     "execution_count": 17,
     "metadata": {},
     "output_type": "execute_result"
    }
   ],
   "source": [
    "train.head()"
   ]
  },
  {
   "cell_type": "code",
   "execution_count": 134,
   "metadata": {},
   "outputs": [],
   "source": [
    "sentences = train['comment_text'].fillna('DUMMY_VALUE').values"
   ]
  },
  {
   "cell_type": "code",
   "execution_count": 135,
   "metadata": {},
   "outputs": [],
   "source": [
    "test_sent = test['comment_text'].fillna('DUMMY_VALUE').values"
   ]
  },
  {
   "cell_type": "code",
   "execution_count": 136,
   "metadata": {},
   "outputs": [],
   "source": [
    "possible_labels = ['toxic', 'severe_toxic', 'obscene', 'threat','insult', 'identity_hate']"
   ]
  },
  {
   "cell_type": "code",
   "execution_count": 23,
   "metadata": {},
   "outputs": [],
   "source": [
    "targets = train[possible_labels].values"
   ]
  },
  {
   "cell_type": "code",
   "execution_count": 24,
   "metadata": {},
   "outputs": [
    {
     "data": {
      "text/plain": [
       "array([[0, 0, 0, 0, 0, 0],\n",
       "       [0, 0, 0, 0, 0, 0],\n",
       "       [0, 0, 0, 0, 0, 0],\n",
       "       ...,\n",
       "       [0, 0, 0, 0, 0, 0],\n",
       "       [0, 0, 0, 0, 0, 0],\n",
       "       [0, 0, 0, 0, 0, 0]], dtype=int64)"
      ]
     },
     "execution_count": 24,
     "metadata": {},
     "output_type": "execute_result"
    }
   ],
   "source": [
    "targets"
   ]
  },
  {
   "cell_type": "code",
   "execution_count": 25,
   "metadata": {
    "scrolled": true
   },
   "outputs": [
    {
     "name": "stdout",
     "output_type": "stream",
     "text": [
      "max sent length 5000\n",
      "min sent length 6\n"
     ]
    }
   ],
   "source": [
    "print('max sent length',max(len(s) for s in sentences))\n",
    "print('min sent length',min(len(s) for s in sentences))"
   ]
  },
  {
   "cell_type": "code",
   "execution_count": 137,
   "metadata": {},
   "outputs": [
    {
     "name": "stdout",
     "output_type": "stream",
     "text": [
      "max sent length 5000\n",
      "min sent length 1\n"
     ]
    }
   ],
   "source": [
    "print('max sent length',max(len(s) for s in test_sent))\n",
    "print('min sent length',min(len(s) for s in test_sent))"
   ]
  },
  {
   "cell_type": "code",
   "execution_count": 28,
   "metadata": {},
   "outputs": [
    {
     "name": "stdout",
     "output_type": "stream",
     "text": [
      "median sent length 205\n"
     ]
    }
   ],
   "source": [
    "s = sorted(len(s) for s in sentences)\n",
    "print('median sent length',s[len(s)//2])"
   ]
  },
  {
   "cell_type": "code",
   "execution_count": 30,
   "metadata": {},
   "outputs": [],
   "source": [
    "tokenizer = Tokenizer(num_words=MAX_VOCAB_SIZE)\n",
    "tokenizer.fit_on_texts(sentences)\n",
    "seqences = tokenizer.texts_to_sequences(sentences)"
   ]
  },
  {
   "cell_type": "code",
   "execution_count": 158,
   "metadata": {},
   "outputs": [],
   "source": [
    "tokenizer_t = Tokenizer(num_words=MAX_VOCAB_SIZE)\n",
    "tokenizer_t.fit_on_texts(test_sent)\n",
    "test_seqences = tokenizer_t.texts_to_sequences(test_sent)"
   ]
  },
  {
   "cell_type": "code",
   "execution_count": 144,
   "metadata": {},
   "outputs": [],
   "source": [
    "word2idx = tokenizer.word_index"
   ]
  },
  {
   "cell_type": "code",
   "execution_count": 159,
   "metadata": {},
   "outputs": [],
   "source": [
    "test_word2idx = tokenizer_t.word_index"
   ]
  },
  {
   "cell_type": "code",
   "execution_count": 160,
   "metadata": {},
   "outputs": [
    {
     "name": "stdout",
     "output_type": "stream",
     "text": [
      "found 273192 unique tokens\n"
     ]
    }
   ],
   "source": [
    "print('found {} unique tokens'.format(len(test_word2idx)))"
   ]
  },
  {
   "cell_type": "code",
   "execution_count": null,
   "metadata": {},
   "outputs": [],
   "source": [
    "data = pad_sequences(seqences,maxlen=MAX_SEQUENCE_LENGTH)\n",
    "data.shape"
   ]
  },
  {
   "cell_type": "code",
   "execution_count": 161,
   "metadata": {},
   "outputs": [
    {
     "data": {
      "text/plain": [
       "(153164, 100)"
      ]
     },
     "execution_count": 161,
     "metadata": {},
     "output_type": "execute_result"
    }
   ],
   "source": [
    "data_test = pad_sequences(test_seqences,maxlen=MAX_SEQUENCE_LENGTH)\n",
    "data_test.shape"
   ]
  },
  {
   "cell_type": "code",
   "execution_count": 148,
   "metadata": {},
   "outputs": [
    {
     "data": {
      "text/plain": [
       "array([[    0,     0,     0, ..., 12896,  3426,  1532],\n",
       "       [    0,     0,     0, ...,   657, 12547,   288],\n",
       "       [    0,     0,     0, ...,     1,   752,   521],\n",
       "       ...,\n",
       "       [    0,     0,     0, ...,  7972,  3491,  4890],\n",
       "       [    0,     0,     0, ...,   148,    28,    11],\n",
       "       [    0,     0,     0, ...,  1711,  2082,    83]])"
      ]
     },
     "execution_count": 148,
     "metadata": {},
     "output_type": "execute_result"
    }
   ],
   "source": [
    "data_test"
   ]
  },
  {
   "cell_type": "code",
   "execution_count": 45,
   "metadata": {},
   "outputs": [
    {
     "name": "stdout",
     "output_type": "stream",
     "text": [
      "Filling pre-trained embeddings...\n"
     ]
    }
   ],
   "source": [
    "print('Filling pre-trained embeddings...')\n",
    "num_words = min(MAX_VOCAB_SIZE, len(word2idx) + 1)\n",
    "embedding_matrix = np.zeros((num_words, EMBEDDING_DIM))\n",
    "for word, i in word2idx.items():\n",
    "\n",
    "    if i < MAX_VOCAB_SIZE:\n",
    "        embedding_vector = word2vec.get(word)\n",
    "        if embedding_vector is not None:\n",
    "# words not found in embedding index will be all zeros.\n",
    "            embedding_matrix[i] = embedding_vector"
   ]
  },
  {
   "cell_type": "code",
   "execution_count": 46,
   "metadata": {},
   "outputs": [],
   "source": [
    "embedding_layer =Embedding(num_words,EMBEDDING_DIM,\n",
    "                           weights = [embedding_matrix],input_length=MAX_SEQUENCE_LENGTH,\n",
    "                          trainable = False)"
   ]
  },
  {
   "cell_type": "code",
   "execution_count": 48,
   "metadata": {},
   "outputs": [
    {
     "name": "stdout",
     "output_type": "stream",
     "text": [
      "Building Model\n"
     ]
    }
   ],
   "source": [
    "print('Building Model')\n",
    "input_ = Input(shape=(MAX_SEQUENCE_LENGTH,))\n",
    "x = embedding_layer(input_)\n",
    "x = Conv1D(128,3,activation='relu')(x)\n",
    "x = MaxPool1D(3)(x)\n",
    "x = Conv1D(128,3,activation='relu')(x)\n",
    "x = MaxPool1D(3)(x)\n",
    "x = Conv1D(128,3,activation='relu')(x)\n",
    "x = GlobalMaxPool1D()(x)\n",
    "x = Dense(128,activation='relu')(x)\n",
    "output = Dense(len(possible_labels),activation='sigmoid')(x)"
   ]
  },
  {
   "cell_type": "code",
   "execution_count": 51,
   "metadata": {},
   "outputs": [],
   "source": [
    "model = Model(input_,output)\n",
    "model.compile(loss='binary_crossentropy',optimizer='rmsprop',metrics=['accuracy'])"
   ]
  },
  {
   "cell_type": "code",
   "execution_count": 52,
   "metadata": {},
   "outputs": [
    {
     "name": "stdout",
     "output_type": "stream",
     "text": [
      "Training Model\n",
      "Train on 127656 samples, validate on 31915 samples\n",
      "Epoch 1/10\n",
      "127656/127656 [==============================] - 283s 2ms/step - loss: 0.0834 - acc: 0.9733 - val_loss: 0.0938 - val_acc: 0.9708\n",
      "Epoch 2/10\n",
      "127656/127656 [==============================] - 241s 2ms/step - loss: 0.0677 - acc: 0.9773 - val_loss: 0.0694 - val_acc: 0.9770\n",
      "Epoch 3/10\n",
      "127656/127656 [==============================] - 243s 2ms/step - loss: 0.0633 - acc: 0.9785 - val_loss: 0.0710 - val_acc: 0.9756\n",
      "Epoch 4/10\n",
      "127656/127656 [==============================] - 243s 2ms/step - loss: 0.0604 - acc: 0.9792 - val_loss: 0.0776 - val_acc: 0.9766\n",
      "Epoch 5/10\n",
      "127656/127656 [==============================] - 239s 2ms/step - loss: 0.0582 - acc: 0.9797 - val_loss: 0.0712 - val_acc: 0.9777\n",
      "Epoch 6/10\n",
      "127656/127656 [==============================] - 240s 2ms/step - loss: 0.0564 - acc: 0.9803 - val_loss: 0.0906 - val_acc: 0.9751\n",
      "Epoch 7/10\n",
      "127656/127656 [==============================] - 240s 2ms/step - loss: 0.0549 - acc: 0.9807 - val_loss: 0.0830 - val_acc: 0.9776\n",
      "Epoch 8/10\n",
      "127656/127656 [==============================] - 243s 2ms/step - loss: 0.0535 - acc: 0.9811 - val_loss: 0.0730 - val_acc: 0.9774\n",
      "Epoch 9/10\n",
      "127656/127656 [==============================] - 239s 2ms/step - loss: 0.0521 - acc: 0.9814 - val_loss: 0.0887 - val_acc: 0.9774\n",
      "Epoch 10/10\n",
      "127656/127656 [==============================] - 242s 2ms/step - loss: 0.0514 - acc: 0.9816 - val_loss: 0.0771 - val_acc: 0.9775\n"
     ]
    }
   ],
   "source": [
    "print('Training Model')\n",
    "#r = model.fit(data,targets,batch_size=BATCH_SIZE,epochs=EPOCHS,validation_split=VALIDATION_SPLIT)"
   ]
  },
  {
   "cell_type": "code",
   "execution_count": 69,
   "metadata": {},
   "outputs": [],
   "source": [
    "#model.save('ToxicCMT.h5')"
   ]
  },
  {
   "cell_type": "code",
   "execution_count": 163,
   "metadata": {},
   "outputs": [],
   "source": [
    "pred = model.predict(data_test)"
   ]
  },
  {
   "cell_type": "code",
   "execution_count": 169,
   "metadata": {},
   "outputs": [
    {
     "data": {
      "text/plain": [
       "array([[9.8923546e-01, 2.2570664e-02, 9.0387899e-01, 5.1338336e-04,\n",
       "        6.4012396e-01, 1.2826221e-01],\n",
       "       [9.9966609e-01, 1.0955918e-01, 9.7781086e-01, 1.4494171e-03,\n",
       "        7.3324776e-01, 2.3784159e-02],\n",
       "       [6.9936566e-02, 7.9532736e-05, 2.2473106e-02, 3.5802048e-05,\n",
       "        1.8311247e-02, 4.7454637e-04],\n",
       "       ...,\n",
       "       [1.3076543e-04, 1.4057741e-14, 4.2736947e-06, 2.2558421e-13,\n",
       "        1.0003670e-06, 2.0328543e-10],\n",
       "       [2.0267971e-02, 7.1215602e-08, 1.0796393e-03, 2.6255568e-06,\n",
       "        8.0055068e-04, 7.0283553e-05],\n",
       "       [1.0039380e-02, 8.0604167e-08, 1.8832262e-03, 3.9602546e-07,\n",
       "        9.3524146e-04, 1.2500610e-05]], dtype=float32)"
      ]
     },
     "execution_count": 169,
     "metadata": {},
     "output_type": "execute_result"
    }
   ],
   "source": [
    "pred"
   ]
  },
  {
   "cell_type": "code",
   "execution_count": 53,
   "metadata": {},
   "outputs": [
    {
     "data": {
      "image/png": "[encoded data removed]",
      "text/plain": [
       "<Figure size 432x288 with 1 Axes>"
      ]
     },
     "metadata": {},
     "output_type": "display_data"
    }
   ],
   "source": [
    "plt.plot(r.history['loss'],label='loss')\n",
    "plt.plot(r.history['val_loss'],label='val_loss')\n",
    "plt.legend()\n",
    "plt.show()"
   ]
  },
  {
   "cell_type": "code",
   "execution_count": 54,
   "metadata": {},
   "outputs": [
    {
     "data": {
      "image/png": "[encoded data removed]",
      "text/plain": [
       "<Figure size 432x288 with 1 Axes>"
      ]
     },
     "metadata": {},
     "output_type": "display_data"
    }
   ],
   "source": [
    "plt.plot(r.history['acc'],label = 'acc')\n",
    "plt.plot(r.history['val_acc'],label = 'val_acc')\n",
    "plt.legend()\n",
    "plt.show()"
   ]
  },
  {
   "cell_type": "code",
   "execution_count": 55,
   "metadata": {},
   "outputs": [
    {
     "name": "stdout",
     "output_type": "stream",
     "text": [
      "0.9754155930741026\n"
     ]
    }
   ],
   "source": [
    "p = model.predict(data)\n",
    "\n",
    "aucs = []\n",
    "\n",
    "for j in range(6):\n",
    "\n",
    "    auc = roc_auc_score(targets[:,j], p[:,j])\n",
    "\n",
    "    aucs.append(auc)\n",
    "\n",
    "print(np.mean(aucs))"
   ]
  },
  {
   "cell_type": "code",
   "execution_count": 87,
   "metadata": {},
   "outputs": [
    {
     "name": "stdout",
     "output_type": "stream",
     "text": [
      "[[1.0819754e-06 8.3657443e-23 6.3172254e-09 7.2816885e-23 1.9475298e-10\n",
      "  5.5484946e-17]\n",
      " [4.1721733e-03 1.4690306e-09 4.9828121e-04 4.7320690e-09 1.9160626e-04\n",
      "  5.8514860e-07]\n",
      " [4.0603634e-03 1.0280006e-09 3.0805805e-04 1.6066961e-08 1.4113358e-04\n",
      "  9.1527068e-07]\n",
      " ...\n",
      " [1.1826471e-01 9.7099582e-06 2.3286203e-02 1.0711925e-05 1.0693243e-02\n",
      "  3.2177105e-04]\n",
      " [1.5922398e-03 8.8600724e-11 1.5421877e-04 4.0031814e-10 4.7334248e-05\n",
      "  9.2456325e-08]\n",
      " [3.3786336e-01 8.8273163e-04 9.9773467e-02 2.5356938e-03 1.0240738e-01\n",
      "  4.9689808e-03]]\n"
     ]
    }
   ],
   "source": [
    "print(p)"
   ]
  },
  {
   "cell_type": "code",
   "execution_count": 94,
   "metadata": {},
   "outputs": [
    {
     "data": {
      "text/plain": [
       "['toxic', 'severe_toxic', 'obscene', 'threat', 'insult', 'identity_hate']"
      ]
     },
     "execution_count": 94,
     "metadata": {},
     "output_type": "execute_result"
    }
   ],
   "source": [
    "possible_labels"
   ]
  },
  {
   "cell_type": "code",
   "execution_count": 103,
   "metadata": {},
   "outputs": [
    {
     "data": {
      "text/plain": [
       "array([5.4891146e-04, 1.8917165e-13, 2.5652773e-05, 1.7987371e-13,\n",
       "       4.9932551e-06, 6.6616346e-10], dtype=float32)"
      ]
     },
     "execution_count": 103,
     "metadata": {},
     "output_type": "execute_result"
    }
   ],
   "source": [
    "pred[1,:]"
   ]
  },
  {
   "cell_type": "code",
   "execution_count": 119,
   "metadata": {
    "scrolled": true
   },
   "outputs": [
    {
     "data": {
      "text/plain": [
       "array([[5.43814152e-02, 2.29110492e-06, 4.16157581e-03, 5.98796432e-05,\n",
       "        4.77272319e-03, 6.20875158e-04],\n",
       "       [5.48911456e-04, 1.89171649e-13, 2.56527728e-05, 1.79873708e-13,\n",
       "        4.99325506e-06, 6.66163458e-10],\n",
       "       [5.20959258e-01, 9.73806251e-04, 9.61217061e-02, 2.64976826e-03,\n",
       "        1.53403834e-01, 1.54720604e-01],\n",
       "       ...,\n",
       "       [6.91893883e-03, 2.99270386e-09, 5.41375251e-04, 6.96305147e-09,\n",
       "        3.21591622e-04, 6.48627633e-07],\n",
       "       [3.09004006e-03, 1.01559972e-09, 3.55965225e-04, 9.02990394e-09,\n",
       "        1.48650841e-04, 6.58772251e-07],\n",
       "       [4.13574994e-01, 1.88005433e-04, 3.17135789e-02, 2.27812724e-03,\n",
       "        1.02125585e-01, 1.87902451e-02]], dtype=float32)"
      ]
     },
     "execution_count": 119,
     "metadata": {},
     "output_type": "execute_result"
    }
   ],
   "source": [
    "pred"
   ]
  },
  {
   "cell_type": "code",
   "execution_count": 127,
   "metadata": {},
   "outputs": [
    {
     "data": {
      "text/plain": [
       "array([0.05438142, 0.00054891, 0.52095926, ..., 0.00691894, 0.00309004,\n",
       "       0.413575  ], dtype=float32)"
      ]
     },
     "execution_count": 127,
     "metadata": {},
     "output_type": "execute_result"
    }
   ],
   "source": [
    "pred[:,0]"
   ]
  },
  {
   "cell_type": "code",
   "execution_count": 125,
   "metadata": {},
   "outputs": [
    {
     "data": {
      "text/plain": [
       "['toxic', 'severe_toxic', 'obscene', 'threat', 'insult', 'identity_hate']"
      ]
     },
     "execution_count": 125,
     "metadata": {},
     "output_type": "execute_result"
    }
   ],
   "source": [
    "possible_labels"
   ]
  },
  {
   "cell_type": "code",
   "execution_count": 170,
   "metadata": {},
   "outputs": [],
   "source": [
    "final = pd.DataFrame({\n",
    "    \"id\":test_lab[\"id\"],\n",
    "    'toxic':pred[:,0],\n",
    "    'severe_toxic':pred[:,1],\n",
    "    'obscene':pred[:,2],\n",
    "    'threat':pred[:,3],\n",
    "    'insult':pred[:,4],\n",
    "    'identity_hate':pred[:,5]\n",
    "    \n",
    "})"
   ]
  },
  {
   "cell_type": "code",
   "execution_count": 173,
   "metadata": {},
   "outputs": [],
   "source": [
    "final.to_csv('Fianl.csv',index=False)"
   ]
  },
  {
   "cell_type": "code",
   "execution_count": null,
   "metadata": {},
   "outputs": [],
   "source": []
  }
 ],
 "metadata": {
  "kernelspec": {
   "display_name": "Python 3",
   "language": "python",
   "name": "python3"
  },
  "language_info": {
   "codemirror_mode": {
    "name": "ipython",
    "version": 3
   },
   "file_extension": ".py",
   "mimetype": "text/x-python",
   "name": "python",
   "nbconvert_exporter": "python",
   "pygments_lexer": "ipython3",
   "version": "3.6.5"
  }
 },
 "nbformat": 4,
 "nbformat_minor": 2
}
